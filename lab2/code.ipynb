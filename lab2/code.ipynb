{
 "cells": [
  {
   "cell_type": "markdown",
   "id": "a3794b02",
   "metadata": {},
   "source": [
    "# Lab 2 - Data Collection & Pre-Processing"
   ]
  },
  {
   "cell_type": "markdown",
   "id": "2ac613ac",
   "metadata": {},
   "source": [
    "## 1. Hello, Data!"
   ]
  },
  {
   "cell_type": "code",
   "execution_count": 89,
   "id": "8d4c7ec1",
   "metadata": {},
   "outputs": [
    {
     "data": {
      "application/vnd.microsoft.datawrangler.viewer.v0+json": {
       "columns": [
        {
         "name": "index",
         "rawType": "int64",
         "type": "integer"
        },
        {
         "name": "Region",
         "rawType": "object",
         "type": "string"
        },
        {
         "name": "Country",
         "rawType": "object",
         "type": "string"
        },
        {
         "name": "Item Type",
         "rawType": "object",
         "type": "string"
        },
        {
         "name": "Sales Channel",
         "rawType": "object",
         "type": "string"
        },
        {
         "name": "Order Priority",
         "rawType": "object",
         "type": "string"
        },
        {
         "name": "Order Date",
         "rawType": "object",
         "type": "string"
        },
        {
         "name": "Order ID",
         "rawType": "int64",
         "type": "integer"
        },
        {
         "name": "Ship Date",
         "rawType": "object",
         "type": "string"
        },
        {
         "name": "Units Sold",
         "rawType": "int64",
         "type": "integer"
        },
        {
         "name": "Unit Price",
         "rawType": "float64",
         "type": "float"
        },
        {
         "name": "Unit Cost",
         "rawType": "float64",
         "type": "float"
        },
        {
         "name": "Total Revenue",
         "rawType": "float64",
         "type": "float"
        },
        {
         "name": "Total Cost",
         "rawType": "float64",
         "type": "float"
        },
        {
         "name": "Total Profit",
         "rawType": "float64",
         "type": "float"
        }
       ],
       "ref": "0b65da9e-a094-4c5d-95c4-c57ae664bfc3",
       "rows": [
        [
         "0",
         "Middle East and North Africa",
         "Libya",
         "Cosmetics",
         "Offline",
         "M",
         "10/18/2014",
         "686800706",
         "10/31/2014",
         "8446",
         "437.2",
         "263.33",
         "3692591.2",
         "2224085.18",
         "1468506.02"
        ],
        [
         "1",
         "North America",
         "Canada",
         "Vegetables",
         "Online",
         "M",
         "11/7/2011",
         "185941302",
         "12/8/2011",
         "3018",
         "154.06",
         "90.93",
         "464953.08",
         "274426.74",
         "190526.34"
        ],
        [
         "2",
         "Middle East and North Africa",
         "Libya",
         "Baby Food",
         "Offline",
         "C",
         "10/31/2016",
         "246222341",
         "12/9/2016",
         "1517",
         "255.28",
         "159.42",
         "387259.76",
         "241840.14",
         "145419.62"
        ]
       ],
       "shape": {
        "columns": 14,
        "rows": 3
       }
      },
      "text/html": [
       "<div>\n",
       "<style scoped>\n",
       "    .dataframe tbody tr th:only-of-type {\n",
       "        vertical-align: middle;\n",
       "    }\n",
       "\n",
       "    .dataframe tbody tr th {\n",
       "        vertical-align: top;\n",
       "    }\n",
       "\n",
       "    .dataframe thead th {\n",
       "        text-align: right;\n",
       "    }\n",
       "</style>\n",
       "<table border=\"1\" class=\"dataframe\">\n",
       "  <thead>\n",
       "    <tr style=\"text-align: right;\">\n",
       "      <th></th>\n",
       "      <th>Region</th>\n",
       "      <th>Country</th>\n",
       "      <th>Item Type</th>\n",
       "      <th>Sales Channel</th>\n",
       "      <th>Order Priority</th>\n",
       "      <th>Order Date</th>\n",
       "      <th>Order ID</th>\n",
       "      <th>Ship Date</th>\n",
       "      <th>Units Sold</th>\n",
       "      <th>Unit Price</th>\n",
       "      <th>Unit Cost</th>\n",
       "      <th>Total Revenue</th>\n",
       "      <th>Total Cost</th>\n",
       "      <th>Total Profit</th>\n",
       "    </tr>\n",
       "  </thead>\n",
       "  <tbody>\n",
       "    <tr>\n",
       "      <th>0</th>\n",
       "      <td>Middle East and North Africa</td>\n",
       "      <td>Libya</td>\n",
       "      <td>Cosmetics</td>\n",
       "      <td>Offline</td>\n",
       "      <td>M</td>\n",
       "      <td>10/18/2014</td>\n",
       "      <td>686800706</td>\n",
       "      <td>10/31/2014</td>\n",
       "      <td>8446</td>\n",
       "      <td>437.20</td>\n",
       "      <td>263.33</td>\n",
       "      <td>3692591.20</td>\n",
       "      <td>2224085.18</td>\n",
       "      <td>1468506.02</td>\n",
       "    </tr>\n",
       "    <tr>\n",
       "      <th>1</th>\n",
       "      <td>North America</td>\n",
       "      <td>Canada</td>\n",
       "      <td>Vegetables</td>\n",
       "      <td>Online</td>\n",
       "      <td>M</td>\n",
       "      <td>11/7/2011</td>\n",
       "      <td>185941302</td>\n",
       "      <td>12/8/2011</td>\n",
       "      <td>3018</td>\n",
       "      <td>154.06</td>\n",
       "      <td>90.93</td>\n",
       "      <td>464953.08</td>\n",
       "      <td>274426.74</td>\n",
       "      <td>190526.34</td>\n",
       "    </tr>\n",
       "    <tr>\n",
       "      <th>2</th>\n",
       "      <td>Middle East and North Africa</td>\n",
       "      <td>Libya</td>\n",
       "      <td>Baby Food</td>\n",
       "      <td>Offline</td>\n",
       "      <td>C</td>\n",
       "      <td>10/31/2016</td>\n",
       "      <td>246222341</td>\n",
       "      <td>12/9/2016</td>\n",
       "      <td>1517</td>\n",
       "      <td>255.28</td>\n",
       "      <td>159.42</td>\n",
       "      <td>387259.76</td>\n",
       "      <td>241840.14</td>\n",
       "      <td>145419.62</td>\n",
       "    </tr>\n",
       "  </tbody>\n",
       "</table>\n",
       "</div>"
      ],
      "text/plain": [
       "                         Region Country   Item Type Sales Channel  \\\n",
       "0  Middle East and North Africa   Libya   Cosmetics       Offline   \n",
       "1                 North America  Canada  Vegetables        Online   \n",
       "2  Middle East and North Africa   Libya   Baby Food       Offline   \n",
       "\n",
       "  Order Priority  Order Date   Order ID   Ship Date  Units Sold  Unit Price  \\\n",
       "0              M  10/18/2014  686800706  10/31/2014        8446      437.20   \n",
       "1              M   11/7/2011  185941302   12/8/2011        3018      154.06   \n",
       "2              C  10/31/2016  246222341   12/9/2016        1517      255.28   \n",
       "\n",
       "   Unit Cost  Total Revenue  Total Cost  Total Profit  \n",
       "0     263.33     3692591.20  2224085.18    1468506.02  \n",
       "1      90.93      464953.08   274426.74     190526.34  \n",
       "2     159.42      387259.76   241840.14     145419.62  "
      ]
     },
     "execution_count": 89,
     "metadata": {},
     "output_type": "execute_result"
    }
   ],
   "source": [
    "import pandas as pd\n",
    "import numpy as np\n",
    "\n",
    "# Keep first 500\n",
    "# data = pd.read_csv('1000 Sales Records.csv')\n",
    "# df_500 = data.head(500)\n",
    "# df_500.to_csv('500_Sales_Records.csv', index=False)\n",
    "\n",
    "data_org = pd.read_csv('500_Sales_Records.csv')\n",
    "data_org.head(3)"
   ]
  },
  {
   "cell_type": "markdown",
   "id": "9e3e59c2",
   "metadata": {},
   "source": [
    "## 8. Transformations — Rename (Item Type -> product, Unit Price -> price, Units Sold -> quantity, Order Date -> date)"
   ]
  },
  {
   "cell_type": "code",
   "execution_count": 90,
   "id": "dc73ff46",
   "metadata": {},
   "outputs": [
    {
     "data": {
      "application/vnd.microsoft.datawrangler.viewer.v0+json": {
       "columns": [
        {
         "name": "index",
         "rawType": "int64",
         "type": "integer"
        },
        {
         "name": "Region",
         "rawType": "object",
         "type": "string"
        },
        {
         "name": "Country",
         "rawType": "object",
         "type": "string"
        },
        {
         "name": "Item Type",
         "rawType": "object",
         "type": "string"
        },
        {
         "name": "product",
         "rawType": "object",
         "type": "string"
        },
        {
         "name": "Sales Channel",
         "rawType": "object",
         "type": "string"
        },
        {
         "name": "Order Priority",
         "rawType": "object",
         "type": "string"
        },
        {
         "name": "Order Date",
         "rawType": "object",
         "type": "string"
        },
        {
         "name": "date",
         "rawType": "object",
         "type": "string"
        },
        {
         "name": "Order ID",
         "rawType": "int64",
         "type": "integer"
        },
        {
         "name": "Ship Date",
         "rawType": "object",
         "type": "string"
        },
        {
         "name": "Units Sold",
         "rawType": "int64",
         "type": "integer"
        },
        {
         "name": "quantity",
         "rawType": "object",
         "type": "string"
        },
        {
         "name": "Unit Price",
         "rawType": "float64",
         "type": "float"
        },
        {
         "name": "price",
         "rawType": "object",
         "type": "string"
        },
        {
         "name": "Unit Cost",
         "rawType": "float64",
         "type": "float"
        },
        {
         "name": "Total Revenue",
         "rawType": "float64",
         "type": "float"
        },
        {
         "name": "Total Cost",
         "rawType": "float64",
         "type": "float"
        },
        {
         "name": "Total Profit",
         "rawType": "float64",
         "type": "float"
        }
       ],
       "ref": "d6ddd19b-5d58-414f-8173-d30883a98028",
       "rows": [
        [
         "0",
         "Middle East and North Africa",
         "Libya",
         "Cosmetics",
         "Cosmetics",
         "Offline",
         "M",
         "10/18/2014",
         "2014-10-18",
         "686800706",
         "10/31/2014",
         "8446",
         "8446",
         "437.2",
         "437.2",
         "263.33",
         "3692591.2",
         "2224085.18",
         "1468506.02"
        ],
        [
         "1",
         "North America",
         "Canada",
         "Vegetables",
         "Vegetables",
         "Online",
         "M",
         "11/7/2011",
         "2011-11-07",
         "185941302",
         "12/8/2011",
         "3018",
         "3018",
         "154.06",
         "154.1",
         "90.93",
         "464953.08",
         "274426.74",
         "190526.34"
        ],
        [
         "2",
         "Middle East and North Africa",
         "Libya",
         "Baby Food",
         "Baby Food",
         "Offline",
         "C",
         "10/31/2016",
         "2016-10-31",
         "246222341",
         "12/9/2016",
         "1517",
         "1517",
         "255.28",
         "255.3",
         "159.42",
         "387259.76",
         "241840.14",
         "145419.62"
        ],
        [
         "3",
         "Asia",
         "Japan",
         "Cereal",
         "Cereal",
         "Offline",
         "C",
         "4/10/2010",
         "2010-04-10",
         "161442649",
         "5/12/2010",
         "3322",
         "3322",
         "205.7",
         "205.7",
         "117.11",
         "683335.4",
         "389039.42",
         "294295.98"
        ],
        [
         "4",
         "Sub-Saharan Africa",
         "Chad",
         "Fruits",
         "Fruits",
         "Offline",
         "H",
         "8/16/2011",
         "2011-08-16",
         "645713555",
         "8/31/2011",
         "9845",
         "9845",
         "9.33",
         "9.3",
         "6.92",
         "91853.85",
         "68127.4",
         "23726.45"
        ]
       ],
       "shape": {
        "columns": 18,
        "rows": 5
       }
      },
      "text/html": [
       "<div>\n",
       "<style scoped>\n",
       "    .dataframe tbody tr th:only-of-type {\n",
       "        vertical-align: middle;\n",
       "    }\n",
       "\n",
       "    .dataframe tbody tr th {\n",
       "        vertical-align: top;\n",
       "    }\n",
       "\n",
       "    .dataframe thead th {\n",
       "        text-align: right;\n",
       "    }\n",
       "</style>\n",
       "<table border=\"1\" class=\"dataframe\">\n",
       "  <thead>\n",
       "    <tr style=\"text-align: right;\">\n",
       "      <th></th>\n",
       "      <th>Region</th>\n",
       "      <th>Country</th>\n",
       "      <th>Item Type</th>\n",
       "      <th>product</th>\n",
       "      <th>Sales Channel</th>\n",
       "      <th>Order Priority</th>\n",
       "      <th>Order Date</th>\n",
       "      <th>date</th>\n",
       "      <th>Order ID</th>\n",
       "      <th>Ship Date</th>\n",
       "      <th>Units Sold</th>\n",
       "      <th>quantity</th>\n",
       "      <th>Unit Price</th>\n",
       "      <th>price</th>\n",
       "      <th>Unit Cost</th>\n",
       "      <th>Total Revenue</th>\n",
       "      <th>Total Cost</th>\n",
       "      <th>Total Profit</th>\n",
       "    </tr>\n",
       "  </thead>\n",
       "  <tbody>\n",
       "    <tr>\n",
       "      <th>0</th>\n",
       "      <td>Middle East and North Africa</td>\n",
       "      <td>Libya</td>\n",
       "      <td>Cosmetics</td>\n",
       "      <td>Cosmetics</td>\n",
       "      <td>Offline</td>\n",
       "      <td>M</td>\n",
       "      <td>10/18/2014</td>\n",
       "      <td>2014-10-18</td>\n",
       "      <td>686800706</td>\n",
       "      <td>10/31/2014</td>\n",
       "      <td>8446</td>\n",
       "      <td>8446</td>\n",
       "      <td>437.20</td>\n",
       "      <td>437.2</td>\n",
       "      <td>263.33</td>\n",
       "      <td>3692591.20</td>\n",
       "      <td>2224085.18</td>\n",
       "      <td>1468506.02</td>\n",
       "    </tr>\n",
       "    <tr>\n",
       "      <th>1</th>\n",
       "      <td>North America</td>\n",
       "      <td>Canada</td>\n",
       "      <td>Vegetables</td>\n",
       "      <td>Vegetables</td>\n",
       "      <td>Online</td>\n",
       "      <td>M</td>\n",
       "      <td>11/7/2011</td>\n",
       "      <td>2011-11-07</td>\n",
       "      <td>185941302</td>\n",
       "      <td>12/8/2011</td>\n",
       "      <td>3018</td>\n",
       "      <td>3018</td>\n",
       "      <td>154.06</td>\n",
       "      <td>154.1</td>\n",
       "      <td>90.93</td>\n",
       "      <td>464953.08</td>\n",
       "      <td>274426.74</td>\n",
       "      <td>190526.34</td>\n",
       "    </tr>\n",
       "    <tr>\n",
       "      <th>2</th>\n",
       "      <td>Middle East and North Africa</td>\n",
       "      <td>Libya</td>\n",
       "      <td>Baby Food</td>\n",
       "      <td>Baby Food</td>\n",
       "      <td>Offline</td>\n",
       "      <td>C</td>\n",
       "      <td>10/31/2016</td>\n",
       "      <td>2016-10-31</td>\n",
       "      <td>246222341</td>\n",
       "      <td>12/9/2016</td>\n",
       "      <td>1517</td>\n",
       "      <td>1517</td>\n",
       "      <td>255.28</td>\n",
       "      <td>255.3</td>\n",
       "      <td>159.42</td>\n",
       "      <td>387259.76</td>\n",
       "      <td>241840.14</td>\n",
       "      <td>145419.62</td>\n",
       "    </tr>\n",
       "    <tr>\n",
       "      <th>3</th>\n",
       "      <td>Asia</td>\n",
       "      <td>Japan</td>\n",
       "      <td>Cereal</td>\n",
       "      <td>Cereal</td>\n",
       "      <td>Offline</td>\n",
       "      <td>C</td>\n",
       "      <td>4/10/2010</td>\n",
       "      <td>2010-04-10</td>\n",
       "      <td>161442649</td>\n",
       "      <td>5/12/2010</td>\n",
       "      <td>3322</td>\n",
       "      <td>3322</td>\n",
       "      <td>205.70</td>\n",
       "      <td>205.7</td>\n",
       "      <td>117.11</td>\n",
       "      <td>683335.40</td>\n",
       "      <td>389039.42</td>\n",
       "      <td>294295.98</td>\n",
       "    </tr>\n",
       "    <tr>\n",
       "      <th>4</th>\n",
       "      <td>Sub-Saharan Africa</td>\n",
       "      <td>Chad</td>\n",
       "      <td>Fruits</td>\n",
       "      <td>Fruits</td>\n",
       "      <td>Offline</td>\n",
       "      <td>H</td>\n",
       "      <td>8/16/2011</td>\n",
       "      <td>2011-08-16</td>\n",
       "      <td>645713555</td>\n",
       "      <td>8/31/2011</td>\n",
       "      <td>9845</td>\n",
       "      <td>9845</td>\n",
       "      <td>9.33</td>\n",
       "      <td>9.3</td>\n",
       "      <td>6.92</td>\n",
       "      <td>91853.85</td>\n",
       "      <td>68127.40</td>\n",
       "      <td>23726.45</td>\n",
       "    </tr>\n",
       "  </tbody>\n",
       "</table>\n",
       "</div>"
      ],
      "text/plain": [
       "                         Region Country   Item Type     product Sales Channel  \\\n",
       "0  Middle East and North Africa   Libya   Cosmetics   Cosmetics       Offline   \n",
       "1                 North America  Canada  Vegetables  Vegetables        Online   \n",
       "2  Middle East and North Africa   Libya   Baby Food   Baby Food       Offline   \n",
       "3                          Asia   Japan      Cereal      Cereal       Offline   \n",
       "4            Sub-Saharan Africa    Chad      Fruits      Fruits       Offline   \n",
       "\n",
       "  Order Priority  Order Date        date   Order ID   Ship Date  Units Sold  \\\n",
       "0              M  10/18/2014  2014-10-18  686800706  10/31/2014        8446   \n",
       "1              M   11/7/2011  2011-11-07  185941302   12/8/2011        3018   \n",
       "2              C  10/31/2016  2016-10-31  246222341   12/9/2016        1517   \n",
       "3              C   4/10/2010  2010-04-10  161442649   5/12/2010        3322   \n",
       "4              H   8/16/2011  2011-08-16  645713555   8/31/2011        9845   \n",
       "\n",
       "  quantity  Unit Price  price  Unit Cost  Total Revenue  Total Cost  \\\n",
       "0     8446      437.20  437.2     263.33     3692591.20  2224085.18   \n",
       "1     3018      154.06  154.1      90.93      464953.08   274426.74   \n",
       "2     1517      255.28  255.3     159.42      387259.76   241840.14   \n",
       "3     3322      205.70  205.7     117.11      683335.40   389039.42   \n",
       "4     9845        9.33    9.3       6.92       91853.85    68127.40   \n",
       "\n",
       "   Total Profit  \n",
       "0    1468506.02  \n",
       "1     190526.34  \n",
       "2     145419.62  \n",
       "3     294295.98  \n",
       "4      23726.45  "
      ]
     },
     "execution_count": 90,
     "metadata": {},
     "output_type": "execute_result"
    }
   ],
   "source": [
    "\"\"\"\n",
    "Cell generated by Data Wrangler.\n",
    "\"\"\"\n",
    "from datetime import datetime\n",
    "\n",
    "def clean_data(data):\n",
    "    # Derive column 'date' from column: 'Order Date'\n",
    "    def date(Order_Date):\n",
    "        \"\"\"\n",
    "        Transform based on the following examples:\n",
    "           Order Date      Output\n",
    "        1: \"10/18/2014\" => \"2014-10-18\"\n",
    "        2: \"11/7/2011\"  => \"2011-11-07\"\n",
    "        \"\"\"\n",
    "        date1 = datetime.strptime(Order_Date, \"%m/%d/%Y\")\n",
    "        return date1.strftime(\"%Y-%m-%d\")\n",
    "    data.insert(6, \"date\", data.apply(lambda row : date(row[\"Order Date\"]), axis=1))\n",
    "    # Derive column 'product' from column: 'Item Type'\n",
    "    # Transform based on the following examples:\n",
    "    #    Item Type      Output\n",
    "    # 1: \"Cosmetics\" => \"Cosmetics\"\n",
    "    data.insert(3, \"product\", data[\"Item Type\"])\n",
    "    # Derive column 'price' from column: 'Unit Price'\n",
    "    # Transform based on the following examples:\n",
    "    #    Unit Price    Output\n",
    "    # 1:      437.2 => \"437.2\"\n",
    "    data.insert(12, \"price\", data.apply(lambda row : f'{row[\"Unit Price\"]:03.1f}', axis=1))\n",
    "    # Derive column 'quantity' from column: 'Units Sold'\n",
    "    # Transform based on the following examples:\n",
    "    #    Units Sold    Output\n",
    "    # 1:      8446L => \"8446\"\n",
    "    data.insert(11, \"quantity\", data.apply(lambda row : f'{row[\"Units Sold\"]:01.0f}', axis=1))\n",
    "    return data\n",
    "\n",
    "data_rename = clean_data(data_org.copy())\n",
    "data_rename.head()"
   ]
  },
  {
   "cell_type": "markdown",
   "id": "b123abd9",
   "metadata": {},
   "source": [
    "## 2. Pick the Right Container\n",
    "\n",
    "- For row‑wise transforms and analytics, I'll use **pandas.DataFrame**.\n",
    "- For fast membership/unique checks, I'll use **set**.\n",
    "- For keyed lookups (e.g., coupons, city mapping), I'll use **dict** / small **DataFrame**."
   ]
  },
  {
   "cell_type": "markdown",
   "id": "ca28a5e0",
   "metadata": {},
   "source": [
    "## 3. Implement Functions and  Data structure"
   ]
  },
  {
   "cell_type": "code",
   "execution_count": 91,
   "id": "111064c3",
   "metadata": {},
   "outputs": [
    {
     "data": {
      "text/plain": [
       "{'rows_before': 500, 'rows_after': 500, 'sold_total': 711192227.21}"
      ]
     },
     "execution_count": 91,
     "metadata": {},
     "output_type": "execute_result"
    }
   ],
   "source": [
    "from dataclasses import dataclass\n",
    "\n",
    "@dataclass\n",
    "class Cleaner:\n",
    "    df: pd.DataFrame\n",
    "    def clean(self) -> pd.DataFrame:\n",
    "        w = self.df.copy()\n",
    "        for c in w.select_dtypes(include=['object']).columns:\n",
    "            w[c] = w[c].astype(str).str.strip()\n",
    "        if 'Units Sold' in w.columns: w = w[w['Units Sold']>=0]\n",
    "        if 'Unit Price' in w.columns: w = w[w['Unit Price']>=0]\n",
    "        if 'Order Date' in w.columns: w['Order Date'] = pd.to_datetime(w['Order Date'], errors='coerce')\n",
    "        if 'Ship Date' in w.columns:  w['Ship Date']  = pd.to_datetime(w['Ship Date'],  errors='coerce')\n",
    "        self.df = w; return w\n",
    "    def total(self, price_col='Unit Price', qty_col='Units Sold') -> float:\n",
    "        return float((self.df[price_col]*self.df[qty_col]).sum())\n",
    "\n",
    "cleaner = Cleaner(data_rename)\n",
    "data_clean = cleaner.clean()\n",
    "{\"rows_before\": len(data_rename), \"rows_after\": len(data_clean), \"sold_total\": cleaner.total()}"
   ]
  },
  {
   "cell_type": "markdown",
   "id": "931f7ad4",
   "metadata": {},
   "source": [
    "## 4. Bulk Loaded — Map DataFrame → dictionaries"
   ]
  },
  {
   "cell_type": "code",
   "execution_count": 92,
   "id": "fdd392ae",
   "metadata": {},
   "outputs": [
    {
     "data": {
      "text/plain": [
       "[('Baby Food', 255.27999999999997),\n",
       " ('Beverages', 47.45),\n",
       " ('Cereal', 205.7),\n",
       " ('Clothes', 109.28),\n",
       " ('Cosmetics', 437.2)]"
      ]
     },
     "execution_count": 92,
     "metadata": {},
     "output_type": "execute_result"
    }
   ],
   "source": [
    "# Example: product → average unit price\n",
    "prod_to_avg_price = (\n",
    "    data_clean.groupby('Item Type')['Unit Price'].mean().to_dict()\n",
    ")\n",
    "list(prod_to_avg_price.items())[:5]"
   ]
  },
  {
   "cell_type": "markdown",
   "id": "df0278f2",
   "metadata": {},
   "source": [
    "## 5. Quick Profiling\n"
   ]
  },
  {
   "cell_type": "code",
   "execution_count": 93,
   "id": "c5cb3f5e",
   "metadata": {},
   "outputs": [
    {
     "data": {
      "text/plain": [
       "{'min_price': 9.33,\n",
       " 'mean_price': 274.3,\n",
       " 'max_price': 668.27,\n",
       " 'unique_country_count': 171}"
      ]
     },
     "execution_count": 93,
     "metadata": {},
     "output_type": "execute_result"
    }
   ],
   "source": [
    "\n",
    "price_min = round(float(data_clean['Unit Price'].min()), 2)\n",
    "price_mean = round(float(data_clean['Unit Price'].mean()), 2)\n",
    "price_max = round(float(data_clean['Unit Price'].max()), 2)\n",
    "unique_countries = len(set(data_clean['Country']))\n",
    "{'min_price': price_min, 'mean_price': price_mean, 'max_price': price_max, 'unique_country_count': unique_countries}"
   ]
  },
  {
   "cell_type": "markdown",
   "id": "8f6f8360",
   "metadata": {},
   "source": [
    "## 6. Spot the Grime"
   ]
  },
  {
   "cell_type": "code",
   "execution_count": 94,
   "id": "89426b7c",
   "metadata": {},
   "outputs": [
    {
     "data": {
      "text/plain": [
       "{'duplicate_order_ids': 0, 'null_order_dates': 0, 'negative_units_sold': 0}"
      ]
     },
     "execution_count": 94,
     "metadata": {},
     "output_type": "execute_result"
    }
   ],
   "source": [
    "issues = {\n",
    "    \"duplicate_order_ids\": int(data_clean[\"Order ID\"].duplicated().sum()),\n",
    "    \"null_order_dates\": int(data_clean[\"Order Date\"].isna().sum()),\n",
    "    \"negative_units_sold\": int((data_clean[\"Units Sold\"] < 0).sum())\n",
    "}\n",
    "issues"
   ]
  },
  {
   "cell_type": "markdown",
   "id": "d459d47b",
   "metadata": {},
   "source": [
    "## 7. Cleaning Rules (Before/After)"
   ]
  },
  {
   "cell_type": "code",
   "execution_count": 95,
   "id": "3056e5e1",
   "metadata": {},
   "outputs": [
    {
     "data": {
      "text/plain": [
       "{'nulls_before': 0,\n",
       " 'nulls_after': 0,\n",
       " 'duplicates_before': 0,\n",
       " 'duplicates_after': 0,\n",
       " 'neg_units_before': 0,\n",
       " 'neg_units_after': 0}"
      ]
     },
     "execution_count": 95,
     "metadata": {},
     "output_type": "execute_result"
    }
   ],
   "source": [
    "rules_report = {\n",
    "    \"nulls_before\": int(data_rename.isna().sum().sum()),\n",
    "    \"nulls_after\": int(data_clean.isna().sum().sum()),\n",
    "    \"duplicates_before\": int(data_rename.duplicated().sum()),\n",
    "    \"duplicates_after\": int(data_clean.duplicated().sum()),\n",
    "    \"neg_units_before\": int((data_rename[\"Units Sold\"] < 0).sum()),\n",
    "    \"neg_units_after\": int((data_clean[\"Units Sold\"] < 0).sum())\n",
    "}\n",
    "rules_report"
   ]
  },
  {
   "cell_type": "markdown",
   "id": "1ba1117e",
   "metadata": {},
   "source": [
    "## 8. Transformations — Coupons"
   ]
  },
  {
   "cell_type": "code",
   "execution_count": 96,
   "id": "a25365a0",
   "metadata": {},
   "outputs": [
    {
     "name": "stdout",
     "output_type": "stream",
     "text": [
      "Coupon merge by month completed.\n"
     ]
    },
    {
     "name": "stderr",
     "output_type": "stream",
     "text": [
      "/var/folders/my/jx5vmkcx0xsgknytb6g77_bc0000gn/T/ipykernel_76215/3163950902.py:17: FutureWarning: Setting an item of incompatible dtype is deprecated and will raise an error in a future version of pandas. Value '[0.1 0.2 0.3 0.1 0.2 0.3 0.1 0.2 0.3 0.1 0.2 0.3 0.1 0.2 0.3 0.1 0.2 0.3\n",
      " 0.1 0.2 0.3 0.1 0.2 0.3 0.1 0.2 0.3 0.1 0.2 0.3 0.1 0.2 0.3 0.1 0.2 0.3\n",
      " 0.1 0.2 0.3 0.1 0.2 0.3 0.1 0.2 0.3 0.1 0.2 0.3 0.1 0.2 0.3 0.1 0.2 0.3\n",
      " 0.1 0.2 0.3 0.1 0.2 0.3 0.1 0.2 0.3 0.1 0.2 0.3 0.1 0.2 0.3 0.1 0.2 0.3\n",
      " 0.1 0.2 0.3 0.1 0.2 0.3 0.1 0.2 0.3 0.1 0.2 0.3 0.1 0.2 0.3 0.1 0.2 0.3\n",
      " 0.1 0.2 0.3 0.1 0.2 0.3 0.1 0.2 0.3 0.1 0.2 0.3 0.1 0.2 0.3 0.1 0.2 0.3\n",
      " 0.1 0.2 0.3 0.1 0.2 0.3 0.1 0.2 0.3 0.1 0.2 0.3 0.1 0.2 0.3 0.1 0.2 0.3\n",
      " 0.1 0.2 0.3 0.1 0.2 0.3 0.1 0.2 0.3 0.1 0.2 0.3 0.1 0.2 0.3 0.1 0.2 0.3\n",
      " 0.1 0.2 0.3 0.1 0.2 0.3 0.1 0.2 0.3 0.1 0.2 0.3 0.1 0.2 0.3 0.1 0.2 0.3\n",
      " 0.1 0.2 0.3 0.1 0.2 0.3 0.1 0.2 0.3 0.1 0.2 0.3 0.1 0.2 0.3 0.1 0.2 0.3\n",
      " 0.1 0.2 0.3 0.1 0.2 0.3 0.1 0.2 0.3 0.1 0.2 0.3 0.1 0.2 0.3 0.1 0.2 0.3\n",
      " 0.1 0.2 0.3 0.1 0.2 0.3]' has dtype incompatible with int64, please explicitly cast to a compatible dtype first.\n",
      "  coupon_df.loc[coupon_df[\"discount_pct\"] > 1, \"discount_pct\"] /= 100.0\n"
     ]
    },
    {
     "data": {
      "application/vnd.microsoft.datawrangler.viewer.v0+json": {
       "columns": [
        {
         "name": "index",
         "rawType": "int64",
         "type": "integer"
        },
        {
         "name": "product",
         "rawType": "object",
         "type": "string"
        },
        {
         "name": "date",
         "rawType": "datetime64[ns]",
         "type": "datetime"
        },
        {
         "name": "Month",
         "rawType": "object",
         "type": "string"
        },
        {
         "name": "coupon_code",
         "rawType": "object",
         "type": "string"
        },
        {
         "name": "discount_pct",
         "rawType": "float64",
         "type": "float"
        }
       ],
       "ref": "7ed036bd-00e5-4563-96ee-2213cf3282bf",
       "rows": [
        [
         "0",
         "Cosmetics",
         "2014-10-18 00:00:00",
         "Oct",
         "SALE10",
         "0.1"
        ],
        [
         "1",
         "Vegetables",
         "2011-11-07 00:00:00",
         "Nov",
         "SALE20",
         "0.2"
        ],
        [
         "2",
         "Baby Food",
         "2016-10-31 00:00:00",
         "Oct",
         "SALE10",
         "0.1"
        ],
        [
         "3",
         "Cereal",
         "2010-04-10 00:00:00",
         "Apr",
         "SALE10",
         "0.1"
        ],
        [
         "4",
         "Fruits",
         "2011-08-16 00:00:00",
         "Aug",
         "SALE20",
         "0.2"
        ],
        [
         "5",
         "Cereal",
         "2014-11-24 00:00:00",
         "Nov",
         "SALE20",
         "0.2"
        ],
        [
         "6",
         "Cereal",
         "2015-03-04 00:00:00",
         "Mar",
         "SALE30",
         "0.3"
        ],
        [
         "7",
         "Clothes",
         "2012-05-17 00:00:00",
         "May",
         "SALE20",
         "0.2"
        ],
        [
         "8",
         "Vegetables",
         "2015-01-29 00:00:00",
         "Jan",
         "SALE10",
         "0.1"
        ],
        [
         "9",
         "Vegetables",
         "2013-12-24 00:00:00",
         "Dec",
         "SALE30",
         "0.3"
        ]
       ],
       "shape": {
        "columns": 5,
        "rows": 10
       }
      },
      "text/html": [
       "<div>\n",
       "<style scoped>\n",
       "    .dataframe tbody tr th:only-of-type {\n",
       "        vertical-align: middle;\n",
       "    }\n",
       "\n",
       "    .dataframe tbody tr th {\n",
       "        vertical-align: top;\n",
       "    }\n",
       "\n",
       "    .dataframe thead th {\n",
       "        text-align: right;\n",
       "    }\n",
       "</style>\n",
       "<table border=\"1\" class=\"dataframe\">\n",
       "  <thead>\n",
       "    <tr style=\"text-align: right;\">\n",
       "      <th></th>\n",
       "      <th>product</th>\n",
       "      <th>date</th>\n",
       "      <th>Month</th>\n",
       "      <th>coupon_code</th>\n",
       "      <th>discount_pct</th>\n",
       "    </tr>\n",
       "  </thead>\n",
       "  <tbody>\n",
       "    <tr>\n",
       "      <th>0</th>\n",
       "      <td>Cosmetics</td>\n",
       "      <td>2014-10-18</td>\n",
       "      <td>Oct</td>\n",
       "      <td>SALE10</td>\n",
       "      <td>0.1</td>\n",
       "    </tr>\n",
       "    <tr>\n",
       "      <th>1</th>\n",
       "      <td>Vegetables</td>\n",
       "      <td>2011-11-07</td>\n",
       "      <td>Nov</td>\n",
       "      <td>SALE20</td>\n",
       "      <td>0.2</td>\n",
       "    </tr>\n",
       "    <tr>\n",
       "      <th>2</th>\n",
       "      <td>Baby Food</td>\n",
       "      <td>2016-10-31</td>\n",
       "      <td>Oct</td>\n",
       "      <td>SALE10</td>\n",
       "      <td>0.1</td>\n",
       "    </tr>\n",
       "    <tr>\n",
       "      <th>3</th>\n",
       "      <td>Cereal</td>\n",
       "      <td>2010-04-10</td>\n",
       "      <td>Apr</td>\n",
       "      <td>SALE10</td>\n",
       "      <td>0.1</td>\n",
       "    </tr>\n",
       "    <tr>\n",
       "      <th>4</th>\n",
       "      <td>Fruits</td>\n",
       "      <td>2011-08-16</td>\n",
       "      <td>Aug</td>\n",
       "      <td>SALE20</td>\n",
       "      <td>0.2</td>\n",
       "    </tr>\n",
       "    <tr>\n",
       "      <th>5</th>\n",
       "      <td>Cereal</td>\n",
       "      <td>2014-11-24</td>\n",
       "      <td>Nov</td>\n",
       "      <td>SALE20</td>\n",
       "      <td>0.2</td>\n",
       "    </tr>\n",
       "    <tr>\n",
       "      <th>6</th>\n",
       "      <td>Cereal</td>\n",
       "      <td>2015-03-04</td>\n",
       "      <td>Mar</td>\n",
       "      <td>SALE30</td>\n",
       "      <td>0.3</td>\n",
       "    </tr>\n",
       "    <tr>\n",
       "      <th>7</th>\n",
       "      <td>Clothes</td>\n",
       "      <td>2012-05-17</td>\n",
       "      <td>May</td>\n",
       "      <td>SALE20</td>\n",
       "      <td>0.2</td>\n",
       "    </tr>\n",
       "    <tr>\n",
       "      <th>8</th>\n",
       "      <td>Vegetables</td>\n",
       "      <td>2015-01-29</td>\n",
       "      <td>Jan</td>\n",
       "      <td>SALE10</td>\n",
       "      <td>0.1</td>\n",
       "    </tr>\n",
       "    <tr>\n",
       "      <th>9</th>\n",
       "      <td>Vegetables</td>\n",
       "      <td>2013-12-24</td>\n",
       "      <td>Dec</td>\n",
       "      <td>SALE30</td>\n",
       "      <td>0.3</td>\n",
       "    </tr>\n",
       "  </tbody>\n",
       "</table>\n",
       "</div>"
      ],
      "text/plain": [
       "      product       date Month coupon_code  discount_pct\n",
       "0   Cosmetics 2014-10-18   Oct      SALE10           0.1\n",
       "1  Vegetables 2011-11-07   Nov      SALE20           0.2\n",
       "2   Baby Food 2016-10-31   Oct      SALE10           0.1\n",
       "3      Cereal 2010-04-10   Apr      SALE10           0.1\n",
       "4      Fruits 2011-08-16   Aug      SALE20           0.2\n",
       "5      Cereal 2014-11-24   Nov      SALE20           0.2\n",
       "6      Cereal 2015-03-04   Mar      SALE30           0.3\n",
       "7     Clothes 2012-05-17   May      SALE20           0.2\n",
       "8  Vegetables 2015-01-29   Jan      SALE10           0.1\n",
       "9  Vegetables 2013-12-24   Dec      SALE30           0.3"
      ]
     },
     "metadata": {},
     "output_type": "display_data"
    },
    {
     "name": "stdout",
     "output_type": "stream",
     "text": [
      "Monthly coupon table sample:\n"
     ]
    },
    {
     "data": {
      "application/vnd.microsoft.datawrangler.viewer.v0+json": {
       "columns": [
        {
         "name": "index",
         "rawType": "int64",
         "type": "integer"
        },
        {
         "name": "Month",
         "rawType": "object",
         "type": "string"
        },
        {
         "name": "coupon_code",
         "rawType": "object",
         "type": "string"
        },
        {
         "name": "discount_pct",
         "rawType": "float64",
         "type": "float"
        }
       ],
       "ref": "5e12b3c6-9ad6-4c97-b708-08afc3c2e77c",
       "rows": [
        [
         "0",
         "Jan",
         "SALE10",
         "0.1"
        ],
        [
         "1",
         "Feb",
         "SALE20",
         "0.2"
        ],
        [
         "2",
         "Mar",
         "SALE30",
         "0.3"
        ],
        [
         "3",
         "Apr",
         "SALE10",
         "0.1"
        ],
        [
         "4",
         "May",
         "SALE20",
         "0.2"
        ],
        [
         "5",
         "Jun",
         "SALE30",
         "0.3"
        ],
        [
         "6",
         "Jul",
         "SALE10",
         "0.1"
        ],
        [
         "7",
         "Aug",
         "SALE20",
         "0.2"
        ],
        [
         "8",
         "Sep",
         "SALE30",
         "0.3"
        ],
        [
         "9",
         "Oct",
         "SALE10",
         "0.1"
        ],
        [
         "10",
         "Nov",
         "SALE20",
         "0.2"
        ],
        [
         "11",
         "Dec",
         "SALE30",
         "0.3"
        ]
       ],
       "shape": {
        "columns": 3,
        "rows": 12
       }
      },
      "text/html": [
       "<div>\n",
       "<style scoped>\n",
       "    .dataframe tbody tr th:only-of-type {\n",
       "        vertical-align: middle;\n",
       "    }\n",
       "\n",
       "    .dataframe tbody tr th {\n",
       "        vertical-align: top;\n",
       "    }\n",
       "\n",
       "    .dataframe thead th {\n",
       "        text-align: right;\n",
       "    }\n",
       "</style>\n",
       "<table border=\"1\" class=\"dataframe\">\n",
       "  <thead>\n",
       "    <tr style=\"text-align: right;\">\n",
       "      <th></th>\n",
       "      <th>Month</th>\n",
       "      <th>coupon_code</th>\n",
       "      <th>discount_pct</th>\n",
       "    </tr>\n",
       "  </thead>\n",
       "  <tbody>\n",
       "    <tr>\n",
       "      <th>0</th>\n",
       "      <td>Jan</td>\n",
       "      <td>SALE10</td>\n",
       "      <td>0.1</td>\n",
       "    </tr>\n",
       "    <tr>\n",
       "      <th>1</th>\n",
       "      <td>Feb</td>\n",
       "      <td>SALE20</td>\n",
       "      <td>0.2</td>\n",
       "    </tr>\n",
       "    <tr>\n",
       "      <th>2</th>\n",
       "      <td>Mar</td>\n",
       "      <td>SALE30</td>\n",
       "      <td>0.3</td>\n",
       "    </tr>\n",
       "    <tr>\n",
       "      <th>3</th>\n",
       "      <td>Apr</td>\n",
       "      <td>SALE10</td>\n",
       "      <td>0.1</td>\n",
       "    </tr>\n",
       "    <tr>\n",
       "      <th>4</th>\n",
       "      <td>May</td>\n",
       "      <td>SALE20</td>\n",
       "      <td>0.2</td>\n",
       "    </tr>\n",
       "    <tr>\n",
       "      <th>5</th>\n",
       "      <td>Jun</td>\n",
       "      <td>SALE30</td>\n",
       "      <td>0.3</td>\n",
       "    </tr>\n",
       "    <tr>\n",
       "      <th>6</th>\n",
       "      <td>Jul</td>\n",
       "      <td>SALE10</td>\n",
       "      <td>0.1</td>\n",
       "    </tr>\n",
       "    <tr>\n",
       "      <th>7</th>\n",
       "      <td>Aug</td>\n",
       "      <td>SALE20</td>\n",
       "      <td>0.2</td>\n",
       "    </tr>\n",
       "    <tr>\n",
       "      <th>8</th>\n",
       "      <td>Sep</td>\n",
       "      <td>SALE30</td>\n",
       "      <td>0.3</td>\n",
       "    </tr>\n",
       "    <tr>\n",
       "      <th>9</th>\n",
       "      <td>Oct</td>\n",
       "      <td>SALE10</td>\n",
       "      <td>0.1</td>\n",
       "    </tr>\n",
       "    <tr>\n",
       "      <th>10</th>\n",
       "      <td>Nov</td>\n",
       "      <td>SALE20</td>\n",
       "      <td>0.2</td>\n",
       "    </tr>\n",
       "    <tr>\n",
       "      <th>11</th>\n",
       "      <td>Dec</td>\n",
       "      <td>SALE30</td>\n",
       "      <td>0.3</td>\n",
       "    </tr>\n",
       "  </tbody>\n",
       "</table>\n",
       "</div>"
      ],
      "text/plain": [
       "   Month coupon_code  discount_pct\n",
       "0    Jan      SALE10           0.1\n",
       "1    Feb      SALE20           0.2\n",
       "2    Mar      SALE30           0.3\n",
       "3    Apr      SALE10           0.1\n",
       "4    May      SALE20           0.2\n",
       "5    Jun      SALE30           0.3\n",
       "6    Jul      SALE10           0.1\n",
       "7    Aug      SALE20           0.2\n",
       "8    Sep      SALE30           0.3\n",
       "9    Oct      SALE10           0.1\n",
       "10   Nov      SALE20           0.2\n",
       "11   Dec      SALE30           0.3"
      ]
     },
     "metadata": {},
     "output_type": "display_data"
    }
   ],
   "source": [
    "# 1) Load and normalize the coupon metadata\n",
    "coupon_df = pd.read_csv(\"Secondary_Metadata_File/Discount_Coupon.csv\").copy()\n",
    "coupon_df = coupon_df.rename(columns={\n",
    "    \"Product_Category\": \"product\",\n",
    "    \"Coupon_Code\": \"coupon_code\",\n",
    "    \"Discount_pct\": \"discount_pct\",\n",
    "    \"Month\": \"Month\",\n",
    "})\n",
    "\n",
    "# 2) Strip whitespace and clean string columns\n",
    "for c in [\"product\", \"coupon_code\", \"Month\"]:\n",
    "    if c in coupon_df.columns:\n",
    "        coupon_df[c] = coupon_df[c].astype(str).str.strip()\n",
    "\n",
    "# 3) Convert discount to numeric and normalize to 0–1\n",
    "coupon_df[\"discount_pct\"] = pd.to_numeric(coupon_df[\"discount_pct\"], errors=\"coerce\").fillna(0.0)\n",
    "coupon_df.loc[coupon_df[\"discount_pct\"] > 1, \"discount_pct\"] /= 100.0\n",
    "coupon_df[\"discount_pct\"] = coupon_df[\"discount_pct\"].clip(0, 1)\n",
    "\n",
    "# --- NEW: normalize Month names to 3-letter abbreviations (Jan..Dec) ---\n",
    "month_map = {\n",
    "    \"january\":\"Jan\",\"jan\":\"Jan\",\n",
    "    \"february\":\"Feb\",\"feb\":\"Feb\",\n",
    "    \"march\":\"Mar\",\"mar\":\"Mar\",\n",
    "    \"april\":\"Apr\",\"apr\":\"Apr\",\n",
    "    \"may\":\"May\",\n",
    "    \"june\":\"Jun\",\"jun\":\"Jun\",\n",
    "    \"july\":\"Jul\",\"jul\":\"Jul\",\n",
    "    \"august\":\"Aug\",\"aug\":\"Aug\",\n",
    "    \"september\":\"Sep\",\"sept\":\"Sep\",\"sep\":\"Sep\",\n",
    "    \"october\":\"Oct\",\"oct\":\"Oct\",\n",
    "    \"november\":\"Nov\",\"nov\":\"Nov\",\n",
    "    \"december\":\"Dec\",\"dec\":\"Dec\",\n",
    "}\n",
    "coupon_df[\"Month\"] = coupon_df[\"Month\"].astype(str).str.strip()\n",
    "coupon_df[\"Month\"] = coupon_df[\"Month\"].str.lower().map(month_map).fillna(coupon_df[\"Month\"])\n",
    "\n",
    "# 4) Keep only one row per Month (highest discount), then ensure all 12 months exist\n",
    "#    4a. select the row with max discount per month\n",
    "top_per_month = (\n",
    "    coupon_df.sort_values([\"Month\", \"discount_pct\"], ascending=[True, False])\n",
    "             .drop_duplicates(subset=[\"Month\"], keep=\"first\")\n",
    "             .loc[:, [\"Month\", \"coupon_code\", \"discount_pct\"]]\n",
    ")\n",
    "\n",
    "#    4b. create a complete Month frame (Jan..Dec)\n",
    "all_months = pd.DataFrame({\"Month\": [\"Jan\",\"Feb\",\"Mar\",\"Apr\",\"May\",\"Jun\",\"Jul\",\"Aug\",\"Sep\",\"Oct\",\"Nov\",\"Dec\"]})\n",
    "\n",
    "#    4c. left-join to force all 12 months to appear, fill defaults for missing months\n",
    "coupon_by_month = (\n",
    "    all_months.merge(top_per_month, on=\"Month\", how=\"left\")\n",
    "              .assign(\n",
    "                  coupon_code=lambda d: d[\"coupon_code\"].fillna(\"NONE\"),\n",
    "                  discount_pct=lambda d: d[\"discount_pct\"].fillna(0.0)\n",
    "              )\n",
    ")\n",
    "\n",
    "\n",
    "w = data_clean.copy()\n",
    "w[\"date\"] = pd.to_datetime(w[\"date\"], errors=\"coerce\")\n",
    "w[\"Month\"] = w[\"date\"].dt.strftime(\"%b\")\n",
    "w.loc[w[\"date\"].isna(), \"Month\"] = \"UNK\"   # Mark invalid dates as UNK\n",
    "\n",
    "# 6) Merge sales with monthly coupon info (now guaranteed to have all 12 months)\n",
    "w = w.merge(coupon_by_month, on=\"Month\", how=\"left\")\n",
    "\n",
    "# 7) Fill missing values\n",
    "w[\"coupon_code\"]  = w[\"coupon_code\"].fillna(\"NONE\")\n",
    "w[\"discount_pct\"] = w[\"discount_pct\"].fillna(0.0)\n",
    "\n",
    "# 8) Quick check\n",
    "print(\"Coupon merge by month completed.\")\n",
    "display(w[[\"product\",\"date\",\"Month\",\"coupon_code\",\"discount_pct\"]].head(10))\n",
    "\n",
    "print(\"Monthly coupon table sample:\")\n",
    "display(coupon_by_month.head(12))"
   ]
  },
  {
   "cell_type": "markdown",
   "id": "c281e749",
   "metadata": {},
   "source": [
    "## 9. Feature Engineering — Customer_ID, shipping_city, days"
   ]
  },
  {
   "cell_type": "code",
   "execution_count": 97,
   "id": "701ae9cb",
   "metadata": {},
   "outputs": [
    {
     "data": {
      "application/vnd.microsoft.datawrangler.viewer.v0+json": {
       "columns": [
        {
         "name": "index",
         "rawType": "int64",
         "type": "integer"
        },
        {
         "name": "date",
         "rawType": "datetime64[ns]",
         "type": "datetime"
        },
        {
         "name": "customer_id",
         "rawType": "object",
         "type": "string"
        },
        {
         "name": "product",
         "rawType": "object",
         "type": "string"
        },
        {
         "name": "price",
         "rawType": "object",
         "type": "string"
        },
        {
         "name": "quantity",
         "rawType": "object",
         "type": "string"
        },
        {
         "name": "coupon_code",
         "rawType": "object",
         "type": "string"
        },
        {
         "name": "shipping_city",
         "rawType": "object",
         "type": "string"
        }
       ],
       "ref": "db777273-7d04-4c96-a084-dcd37217766c",
       "rows": [
        [
         "0",
         "2014-10-18 00:00:00",
         "C00706",
         "Cosmetics",
         "437.2",
         "8446",
         "SALE10",
         "Tripoli"
        ],
        [
         "1",
         "2011-11-07 00:00:00",
         "C41302",
         "Vegetables",
         "154.1",
         "3018",
         "SALE20",
         "Ottawa"
        ],
        [
         "2",
         "2016-10-31 00:00:00",
         "C22341",
         "Baby Food",
         "255.3",
         "1517",
         "SALE10",
         "Tripoli"
        ],
        [
         "3",
         "2010-04-10 00:00:00",
         "C42649",
         "Cereal",
         "205.7",
         "3322",
         "SALE10",
         "Tokyo"
        ],
        [
         "4",
         "2011-08-16 00:00:00",
         "C13555",
         "Fruits",
         "9.3",
         "9845",
         "SALE20",
         "Chad"
        ],
        [
         "5",
         "2014-11-24 00:00:00",
         "C58888",
         "Cereal",
         "205.7",
         "9528",
         "SALE20",
         "Armenia"
        ],
        [
         "6",
         "2015-03-04 00:00:00",
         "C14975",
         "Cereal",
         "205.7",
         "2844",
         "SALE30",
         "Eritrea"
        ],
        [
         "7",
         "2012-05-17 00:00:00",
         "C30645",
         "Clothes",
         "109.3",
         "7299",
         "SALE20",
         "Montenegro"
        ],
        [
         "8",
         "2015-01-29 00:00:00",
         "C67225",
         "Vegetables",
         "154.1",
         "2428",
         "SALE10",
         "Jamaica"
        ],
        [
         "9",
         "2013-12-24 00:00:00",
         "C98544",
         "Vegetables",
         "154.1",
         "4800",
         "SALE30",
         "Fiji"
        ]
       ],
       "shape": {
        "columns": 7,
        "rows": 10
       }
      },
      "text/html": [
       "<div>\n",
       "<style scoped>\n",
       "    .dataframe tbody tr th:only-of-type {\n",
       "        vertical-align: middle;\n",
       "    }\n",
       "\n",
       "    .dataframe tbody tr th {\n",
       "        vertical-align: top;\n",
       "    }\n",
       "\n",
       "    .dataframe thead th {\n",
       "        text-align: right;\n",
       "    }\n",
       "</style>\n",
       "<table border=\"1\" class=\"dataframe\">\n",
       "  <thead>\n",
       "    <tr style=\"text-align: right;\">\n",
       "      <th></th>\n",
       "      <th>date</th>\n",
       "      <th>customer_id</th>\n",
       "      <th>product</th>\n",
       "      <th>price</th>\n",
       "      <th>quantity</th>\n",
       "      <th>coupon_code</th>\n",
       "      <th>shipping_city</th>\n",
       "    </tr>\n",
       "  </thead>\n",
       "  <tbody>\n",
       "    <tr>\n",
       "      <th>0</th>\n",
       "      <td>2014-10-18</td>\n",
       "      <td>C00706</td>\n",
       "      <td>Cosmetics</td>\n",
       "      <td>437.2</td>\n",
       "      <td>8446</td>\n",
       "      <td>SALE10</td>\n",
       "      <td>Tripoli</td>\n",
       "    </tr>\n",
       "    <tr>\n",
       "      <th>1</th>\n",
       "      <td>2011-11-07</td>\n",
       "      <td>C41302</td>\n",
       "      <td>Vegetables</td>\n",
       "      <td>154.1</td>\n",
       "      <td>3018</td>\n",
       "      <td>SALE20</td>\n",
       "      <td>Ottawa</td>\n",
       "    </tr>\n",
       "    <tr>\n",
       "      <th>2</th>\n",
       "      <td>2016-10-31</td>\n",
       "      <td>C22341</td>\n",
       "      <td>Baby Food</td>\n",
       "      <td>255.3</td>\n",
       "      <td>1517</td>\n",
       "      <td>SALE10</td>\n",
       "      <td>Tripoli</td>\n",
       "    </tr>\n",
       "    <tr>\n",
       "      <th>3</th>\n",
       "      <td>2010-04-10</td>\n",
       "      <td>C42649</td>\n",
       "      <td>Cereal</td>\n",
       "      <td>205.7</td>\n",
       "      <td>3322</td>\n",
       "      <td>SALE10</td>\n",
       "      <td>Tokyo</td>\n",
       "    </tr>\n",
       "    <tr>\n",
       "      <th>4</th>\n",
       "      <td>2011-08-16</td>\n",
       "      <td>C13555</td>\n",
       "      <td>Fruits</td>\n",
       "      <td>9.3</td>\n",
       "      <td>9845</td>\n",
       "      <td>SALE20</td>\n",
       "      <td>Chad</td>\n",
       "    </tr>\n",
       "    <tr>\n",
       "      <th>5</th>\n",
       "      <td>2014-11-24</td>\n",
       "      <td>C58888</td>\n",
       "      <td>Cereal</td>\n",
       "      <td>205.7</td>\n",
       "      <td>9528</td>\n",
       "      <td>SALE20</td>\n",
       "      <td>Armenia</td>\n",
       "    </tr>\n",
       "    <tr>\n",
       "      <th>6</th>\n",
       "      <td>2015-03-04</td>\n",
       "      <td>C14975</td>\n",
       "      <td>Cereal</td>\n",
       "      <td>205.7</td>\n",
       "      <td>2844</td>\n",
       "      <td>SALE30</td>\n",
       "      <td>Eritrea</td>\n",
       "    </tr>\n",
       "    <tr>\n",
       "      <th>7</th>\n",
       "      <td>2012-05-17</td>\n",
       "      <td>C30645</td>\n",
       "      <td>Clothes</td>\n",
       "      <td>109.3</td>\n",
       "      <td>7299</td>\n",
       "      <td>SALE20</td>\n",
       "      <td>Montenegro</td>\n",
       "    </tr>\n",
       "    <tr>\n",
       "      <th>8</th>\n",
       "      <td>2015-01-29</td>\n",
       "      <td>C67225</td>\n",
       "      <td>Vegetables</td>\n",
       "      <td>154.1</td>\n",
       "      <td>2428</td>\n",
       "      <td>SALE10</td>\n",
       "      <td>Jamaica</td>\n",
       "    </tr>\n",
       "    <tr>\n",
       "      <th>9</th>\n",
       "      <td>2013-12-24</td>\n",
       "      <td>C98544</td>\n",
       "      <td>Vegetables</td>\n",
       "      <td>154.1</td>\n",
       "      <td>4800</td>\n",
       "      <td>SALE30</td>\n",
       "      <td>Fiji</td>\n",
       "    </tr>\n",
       "  </tbody>\n",
       "</table>\n",
       "</div>"
      ],
      "text/plain": [
       "        date customer_id     product  price quantity coupon_code shipping_city\n",
       "0 2014-10-18      C00706   Cosmetics  437.2     8446      SALE10       Tripoli\n",
       "1 2011-11-07      C41302  Vegetables  154.1     3018      SALE20        Ottawa\n",
       "2 2016-10-31      C22341   Baby Food  255.3     1517      SALE10       Tripoli\n",
       "3 2010-04-10      C42649      Cereal  205.7     3322      SALE10         Tokyo\n",
       "4 2011-08-16      C13555      Fruits    9.3     9845      SALE20          Chad\n",
       "5 2014-11-24      C58888      Cereal  205.7     9528      SALE20       Armenia\n",
       "6 2015-03-04      C14975      Cereal  205.7     2844      SALE30       Eritrea\n",
       "7 2012-05-17      C30645     Clothes  109.3     7299      SALE20    Montenegro\n",
       "8 2015-01-29      C67225  Vegetables  154.1     2428      SALE10       Jamaica\n",
       "9 2013-12-24      C98544  Vegetables  154.1     4800      SALE30          Fiji"
      ]
     },
     "metadata": {},
     "output_type": "display_data"
    }
   ],
   "source": [
    "# Start directly from w (already has date, product, price, quantity, coupon_code, Month)\n",
    "df = w.copy()\n",
    "\n",
    "# 1) Create customer_id\n",
    "order_id_num = pd.to_numeric(df[\"Order ID\"], errors=\"coerce\")\n",
    "df[\"customer_id\"] = \"C\" + (order_id_num % 100000).fillna(0).astype(int).astype(str).str.zfill(5)\n",
    "\n",
    "# 2) Map Country -> shipping_city\n",
    "city_lu = pd.read_csv(\"Secondary_Metadata_File/country_city_lookup.csv\").copy()\n",
    "city_lu = city_lu.rename(columns={\"Shipping City\": \"shipping_city\"})\n",
    "city_lu[\"Country\"] = city_lu[\"Country\"].astype(str).str.strip()\n",
    "city_lu[\"shipping_city\"] = city_lu[\"shipping_city\"].astype(str).str.strip()\n",
    "\n",
    "df[\"Country\"] = df[\"Country\"].astype(str).str.strip()\n",
    "df = df.merge(city_lu[[\"Country\", \"shipping_city\"]], on=\"Country\", how=\"left\")\n",
    "\n",
    "# fallback if shipping_city missing\n",
    "df[\"shipping_city\"] = np.where(\n",
    "    df[\"shipping_city\"].notna() & (df[\"shipping_city\"].str.len() > 0),\n",
    "    df[\"shipping_city\"],\n",
    "    df[\"Country\"]\n",
    ")\n",
    "\n",
    "# 3) Add days_since_purchase\n",
    "df[\"date\"] = pd.to_datetime(df[\"date\"], errors=\"coerce\")\n",
    "valid_dates = df[\"date\"].dropna()\n",
    "if not valid_dates.empty:\n",
    "    ref_date = valid_dates.max()\n",
    "    df[\"days_since_purchase\"] = (ref_date - df[\"date\"]).dt.days\n",
    "else:\n",
    "    df[\"days_since_purchase\"] = np.nan\n",
    "\n",
    "# Keep only the final enriched dataset in one variable\n",
    "final_data = df.copy()\n",
    "del df, w\n",
    "\n",
    "# 4) Final required fields\n",
    "required_cols = [\"date\",\"customer_id\",\"product\",\"price\",\"quantity\",\"coupon_code\",\"shipping_city\"]\n",
    "display(final_data[required_cols].head(10))\n"
   ]
  },
  {
   "cell_type": "markdown",
   "id": "9c47d76d",
   "metadata": {},
   "source": [
    "## 10. Mini-Aggregation — revenue per shipping_city"
   ]
  },
  {
   "cell_type": "code",
   "execution_count": 98,
   "id": "9a24a59c",
   "metadata": {},
   "outputs": [
    {
     "data": {
      "application/vnd.microsoft.datawrangler.viewer.v0+json": {
       "columns": [
        {
         "name": "index",
         "rawType": "int64",
         "type": "integer"
        },
        {
         "name": "shipping_city",
         "rawType": "object",
         "type": "string"
        },
        {
         "name": "revenue",
         "rawType": "float64",
         "type": "float"
        }
       ],
       "ref": "5160375e-596d-4025-bff3-b1055f8b42b1",
       "rows": [
        [
         "120",
         "Papua New Guinea",
         "13461607.93"
        ],
        [
         "39",
         "Costa Rica",
         "12202448.450000001"
        ],
        [
         "42",
         "Cuba",
         "11126793.15"
        ],
        [
         "122",
         "Prague",
         "10697845.14"
        ],
        [
         "154",
         "Tonga",
         "10227070.71"
        ],
        [
         "82",
         "Lisbon",
         "9976579.36"
        ],
        [
         "145",
         "Swaziland",
         "9910575.72"
        ],
        [
         "36",
         "Chad",
         "9060937.83"
        ],
        [
         "56",
         "Georgia",
         "9019128.120000001"
        ],
        [
         "86",
         "Luxembourg",
         "8919977.98"
        ]
       ],
       "shape": {
        "columns": 2,
        "rows": 10
       }
      },
      "text/html": [
       "<div>\n",
       "<style scoped>\n",
       "    .dataframe tbody tr th:only-of-type {\n",
       "        vertical-align: middle;\n",
       "    }\n",
       "\n",
       "    .dataframe tbody tr th {\n",
       "        vertical-align: top;\n",
       "    }\n",
       "\n",
       "    .dataframe thead th {\n",
       "        text-align: right;\n",
       "    }\n",
       "</style>\n",
       "<table border=\"1\" class=\"dataframe\">\n",
       "  <thead>\n",
       "    <tr style=\"text-align: right;\">\n",
       "      <th></th>\n",
       "      <th>shipping_city</th>\n",
       "      <th>revenue</th>\n",
       "    </tr>\n",
       "  </thead>\n",
       "  <tbody>\n",
       "    <tr>\n",
       "      <th>120</th>\n",
       "      <td>Papua New Guinea</td>\n",
       "      <td>13461607.93</td>\n",
       "    </tr>\n",
       "    <tr>\n",
       "      <th>39</th>\n",
       "      <td>Costa Rica</td>\n",
       "      <td>12202448.45</td>\n",
       "    </tr>\n",
       "    <tr>\n",
       "      <th>42</th>\n",
       "      <td>Cuba</td>\n",
       "      <td>11126793.15</td>\n",
       "    </tr>\n",
       "    <tr>\n",
       "      <th>122</th>\n",
       "      <td>Prague</td>\n",
       "      <td>10697845.14</td>\n",
       "    </tr>\n",
       "    <tr>\n",
       "      <th>154</th>\n",
       "      <td>Tonga</td>\n",
       "      <td>10227070.71</td>\n",
       "    </tr>\n",
       "    <tr>\n",
       "      <th>82</th>\n",
       "      <td>Lisbon</td>\n",
       "      <td>9976579.36</td>\n",
       "    </tr>\n",
       "    <tr>\n",
       "      <th>145</th>\n",
       "      <td>Swaziland</td>\n",
       "      <td>9910575.72</td>\n",
       "    </tr>\n",
       "    <tr>\n",
       "      <th>36</th>\n",
       "      <td>Chad</td>\n",
       "      <td>9060937.83</td>\n",
       "    </tr>\n",
       "    <tr>\n",
       "      <th>56</th>\n",
       "      <td>Georgia</td>\n",
       "      <td>9019128.12</td>\n",
       "    </tr>\n",
       "    <tr>\n",
       "      <th>86</th>\n",
       "      <td>Luxembourg</td>\n",
       "      <td>8919977.98</td>\n",
       "    </tr>\n",
       "  </tbody>\n",
       "</table>\n",
       "</div>"
      ],
      "text/plain": [
       "        shipping_city      revenue\n",
       "120  Papua New Guinea  13461607.93\n",
       "39         Costa Rica  12202448.45\n",
       "42               Cuba  11126793.15\n",
       "122            Prague  10697845.14\n",
       "154             Tonga  10227070.71\n",
       "82             Lisbon   9976579.36\n",
       "145         Swaziland   9910575.72\n",
       "36               Chad   9060937.83\n",
       "56            Georgia   9019128.12\n",
       "86         Luxembourg   8919977.98"
      ]
     },
     "metadata": {},
     "output_type": "display_data"
    },
    {
     "data": {
      "text/plain": [
       "{'Papua New Guinea': 13461607.93,\n",
       " 'Costa Rica': 12202448.450000001,\n",
       " 'Cuba': 11126793.15,\n",
       " 'Prague': 10697845.14,\n",
       " 'Tonga': 10227070.71}"
      ]
     },
     "execution_count": 98,
     "metadata": {},
     "output_type": "execute_result"
    }
   ],
   "source": [
    "\n",
    "# 1) Define revenue without tax: price_after_discount * quantity\n",
    "w = final_data.copy()\n",
    "w[\"discount_pct\"] = pd.to_numeric(w[\"discount_pct\"], errors=\"coerce\").fillna(0.0)\n",
    "w[\"price\"] = pd.to_numeric(w[\"price\"], errors=\"coerce\")\n",
    "w[\"quantity\"] = pd.to_numeric(w[\"quantity\"], errors=\"coerce\")\n",
    "\n",
    "w[\"price_after_discount\"] = (w[\"price\"] * (1 - w[\"discount_pct\"])).round(2)\n",
    "w[\"revenue\"] = (w[\"price_after_discount\"] * w[\"quantity\"]).round(2)\n",
    "\n",
    "# 2) Aggregate by shipping_city (sum of revenue)\n",
    "city_rev_df = (\n",
    "    w.groupby(\"shipping_city\", dropna=False)[\"revenue\"]\n",
    "     .sum()\n",
    "     .reset_index()\n",
    "     .sort_values(\"revenue\", ascending=False)\n",
    ")\n",
    "\n",
    "# 3) Show top 10 cities\n",
    "display(city_rev_df.head(10))\n",
    "\n",
    "# 4) (Optional) Also provide a dict version for the assignment's \"map to dict\" flavor\n",
    "city_rev_dict = dict(city_rev_df.itertuples(index=False, name=None))\n",
    "# Preview only first 5 items to keep output tidy\n",
    "dict(list(city_rev_dict.items())[:5])"
   ]
  },
  {
   "cell_type": "markdown",
   "id": "e4a447fe",
   "metadata": {},
   "source": [
    "## 11. Serialization Checkpoint"
   ]
  },
  {
   "cell_type": "code",
   "execution_count": 99,
   "id": "72c54771",
   "metadata": {},
   "outputs": [
    {
     "name": "stdout",
     "output_type": "stream",
     "text": [
      "Step 11: Data serialized to 'cleaned_transactions.csv' and 'cleaned_transactions.json'\n"
     ]
    }
   ],
   "source": [
    "# Select only the required 7 fields for submission\n",
    "required_cols = [\"date\",\"customer_id\",\"product\",\"price\",\"quantity\",\"coupon_code\",\"shipping_city\"]\n",
    "cleaned_data = final_data[required_cols].copy()\n",
    "\n",
    "# 1) Save as CSV\n",
    "cleaned_data.to_csv(\"cleaned_transactions.csv\", index=False)\n",
    "\n",
    "# 2) Save as JSON (records format is usually easiest to reload)\n",
    "cleaned_data.to_json(\"cleaned_transactions.json\", orient=\"records\", date_format=\"iso\")\n",
    "\n",
    "print(\"Step 11: Data serialized to 'cleaned_transactions.csv' and 'cleaned_transactions.json'\")"
   ]
  },
  {
   "cell_type": "markdown",
   "id": "5c1b1a27",
   "metadata": {},
   "source": [
    "## 12. Soft Interview Reflection\n",
    "\n",
    "Using functions in this lab made the workflow more structured and reusable.  \n",
    "For example, when cleaning data, I could encapsulate the rules in a single `.clean()` method,  \n",
    "which avoided repeating the same operations across multiple cells.  \n",
    "Functions also made it easier to test small pieces of logic separately  \n",
    "(such as parsing coupon codes or computing derived fields) without rewriting code.  \n",
    "\n",
    "In a real project, this approach improves maintainability:  \n",
    "if requirements change, I only need to update one function rather than fixing code in many places.  \n",
    "It also makes collaboration smoother, because teammates can quickly understand  \n",
    "what each function is supposed to do based on its name and docstring.  \n",
    "Overall, functions supported cleaner design and faster iteration."
   ]
  },
  {
   "cell_type": "markdown",
   "id": "3ffc77b9",
   "metadata": {},
   "source": [
    "## Data-Dictionary Section\n",
    "\n",
    "**Sources used**\n",
    "- **Primary**: `500 Sales Records.csv` (raw transactions)\n",
    "- **Secondary**: \n",
    "  - `Discount_Coupon.csv` → from [Kaggle: Marketing Insights for E-Commerce Company](https://www.kaggle.com/datasets/rishikumarrajvansh/marketing-insights-for-e-commerce-company)  \n",
    "  - `country_city_lookup.csv` → AI-generated lookup table (synthetic)\n",
    "\n",
    "**How fields were produced**\n",
    "- Core transaction columns were **renamed** from the primary dataset.  \n",
    "- Coupon metadata was **merged by Month** (normalized to Jan–Dec) and missing months filled with defaults.  \n",
    "- `shipping_city` was derived by mapping `Country → City` via the AI-generated lookup.  \n",
    "- `customer_id` was **synthetic**, generated from `Order ID`.  \n",
    "- A simple recency feature (`days_since_purchase`) was added for demonstration of feature engineering.\n",
    "\n",
    "### Field Definitions\n",
    "\n",
    "| Field               | Type      | Description                                                                                       | Source      | Creation Notes |\n",
    "|---------------------|-----------|---------------------------------------------------------------------------------------------------|-------------|----------------|\n",
    "| `date`              | datetime  | Order date parsed from the primary dataset                                                        | Primary     | Parsed from `Order Date` |\n",
    "| `customer_id`       | string    | Synthetic customer identifier                                                                     | Derived     | `\"C\" + (Order ID % 100000)`, zero-padded |\n",
    "| `product`           | string    | Product / item category                                                                           | Primary     | Renamed from `Item Type` |\n",
    "| `price`             | float     | Unit price per product                                                                            | Primary     | Renamed from `Unit Price` |\n",
    "| `quantity`          | int       | Units sold                                                                                       | Primary     | Renamed from `Units Sold` |\n",
    "| `coupon_code`       | string    | Coupon applied for the month of the order                                                         | Secondary   | From Kaggle `Discount_Coupon.csv`; defaults to `\"NONE\"` |\n",
    "| `shipping_city`     | string    | Shipping city resolved from country                                                               | Secondary   | From AI-generated `country_city_lookup.csv`; fallback to `Country` if not matched |\n",
    "| `discount_pct`      | float     | Coupon discount as a fraction in `[0,1]`                                                          | Secondary   | Normalized from Kaggle coupon dataset; values >1 divided by 100 |\n",
    "| `Month`             | string    | 3-letter month abbreviation used for coupon join                                                  | Derived     | From `date` (`%b`); helper only |\n",
    "| `days_since_purchase` | int     | Recency: days since order compared to dataset’s most recent date                                  | Derived     | `max(date) - date`; NaT → NaN |\n",
    "\n",
    "> **Export policy:** Final submission includes only the **7 required fields**:  \n",
    "> `date`, `customer_id`, `product`, `price`, `quantity`, `coupon_code`, `shipping_city`.  \n",
    "> Other columns are shown in the notebook for transparency.\n"
   ]
  }
 ],
 "metadata": {
  "kernelspec": {
   "display_name": ".venv (3.10.18)",
   "language": "python",
   "name": "python3"
  },
  "language_info": {
   "codemirror_mode": {
    "name": "ipython",
    "version": 3
   },
   "file_extension": ".py",
   "mimetype": "text/x-python",
   "name": "python",
   "nbconvert_exporter": "python",
   "pygments_lexer": "ipython3",
   "version": "3.10.18"
  }
 },
 "nbformat": 4,
 "nbformat_minor": 5
}
